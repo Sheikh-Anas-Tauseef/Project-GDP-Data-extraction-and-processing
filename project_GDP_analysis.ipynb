{
 "cells": [
  {
   "cell_type": "markdown",
   "id": "aa2441a3-4ffc-4ba1-bb23-c3ece7e586df",
   "metadata": {},
   "source": [
    "# Practice Project: GDP Data extraction and processing\n",
    "\n",
    "Estimated time needed: **30** minutes\n",
    "\n",
    "## Introduction\n",
    "\n",
    "In this practice project, you will put the skills acquired through the course to use. You will extract data from a website using webscraping and reqeust APIs process it using Pandas and Numpy libraries."
   ]
  },
  {
   "cell_type": "markdown",
   "id": "7259a8cb-73cd-4522-9f81-45a9aac2473c",
   "metadata": {},
   "source": [
    "## Project Scenario:\n",
    "\n",
    "An international firm that is looking to expand its business in different countries across the world has recruited you. You have been hired as a junior Data Engineer and are tasked with creating a script that can extract the list of the top 10 largest economies of the world in descending order of their GDPs in Billion USD (rounded to 2 decimal places), as logged by the International Monetary Fund (IMF). \n",
    "\n",
    "The required data seems to be available on the URL mentioned below:\n"
   ]
  },
  {
   "cell_type": "markdown",
   "id": "35c24595-6974-4bd9-add5-669a6f4d7023",
   "metadata": {},
   "source": [
    "URL: https://web.archive.org/web/20230902185326/https://en.wikipedia.org/wiki/List_of_countries_by_GDP_%28nominal%29\n"
   ]
  },
  {
   "cell_type": "markdown",
   "id": "0c4e2087-9532-439b-a77d-9b9a2303d66b",
   "metadata": {},
   "source": [
    "## Objectives\n",
    "\n",
    "After completing this lab you will be able to:\n",
    "\n",
    " - Use Webscraping to extract required information from a website.\n",
    " - Use Pandas to load and process the tabular data as a dataframe.\n",
    " - Use Numpy to manipulate the information contatined in the dataframe.\n",
    " - Load the updated dataframe to CSV file.\n"
   ]
  },
  {
   "cell_type": "markdown",
   "id": "d04470d3-ca17-49a7-8ea2-b1a5b61079bb",
   "metadata": {},
   "source": [
    "## Dislcaimer\n",
    "\n",
    "If you are using a downloaded version of this notebook on your local machine, you may encounter a warning message as shown in the screenshot below.\n",
    "\n",
    "<p style=\"text-align:center\">\n",
    "    <img src=\"https://cf-courses-data.s3.us.cloud-object-storage.appdomain.cloud/IBMDeveloperSkillsNetwork-PY0101EN-SkillsNetwork/labs/mod_5/practice_project_disclaimer.png\" width=\"700\" alt=\"warning message\">\n",
    "</p>\n",
    "\n",
    "\n",
    "This does not affect the execution of your codes in any way and can be simply ignored. \n"
   ]
  },
  {
   "cell_type": "markdown",
   "id": "154754af-abb0-4d11-9db9-3a37db6a86e2",
   "metadata": {},
   "source": [
    "# Setup\n"
   ]
  },
  {
   "cell_type": "markdown",
   "id": "be608206-f472-4cb1-9207-8d6b2bd617fb",
   "metadata": {},
   "source": [
    "For this lab, we will be using the following libraries:\n",
    "\n",
    "*   [`pandas`](https://pandas.pydata.org/?utm_medium=Exinfluencer&utm_source=Exinfluencer&utm_content=000026UJ&utm_term=10006555&utm_id=NA-SkillsNetwork-Channel-SkillsNetworkCoursesIBMML0187ENSkillsNetwork31430127-2021-01-01) for managing the data.\n",
    "*   [`numpy`](https://numpy.org/?utm_medium=Exinfluencer&utm_source=Exinfluencer&utm_content=000026UJ&utm_term=10006555&utm_id=NA-SkillsNetwork-Channel-SkillsNetworkCoursesIBMML0187ENSkillsNetwork31430127-2021-01-01) for mathematical operations.\n"
   ]
  },
  {
   "cell_type": "code",
   "execution_count": 3,
   "id": "e071952b-2d39-42d3-b1e4-ae53eb68f560",
   "metadata": {},
   "outputs": [
    {
     "name": "stdout",
     "output_type": "stream",
     "text": [
      "Requirement already satisfied: pandas in c:\\users\\rameez computer\\appdata\\local\\programs\\python\\python312\\lib\\site-packages (2.2.2)\n",
      "Requirement already satisfied: numpy in c:\\users\\rameez computer\\appdata\\local\\programs\\python\\python312\\lib\\site-packages (1.26.4)\n",
      "Requirement already satisfied: python-dateutil>=2.8.2 in c:\\users\\rameez computer\\appdata\\local\\programs\\python\\python312\\lib\\site-packages (from pandas) (2.9.0.post0)\n",
      "Requirement already satisfied: pytz>=2020.1 in c:\\users\\rameez computer\\appdata\\local\\programs\\python\\python312\\lib\\site-packages (from pandas) (2024.1)\n",
      "Requirement already satisfied: tzdata>=2022.7 in c:\\users\\rameez computer\\appdata\\local\\programs\\python\\python312\\lib\\site-packages (from pandas) (2024.1)\n",
      "Requirement already satisfied: six>=1.5 in c:\\users\\rameez computer\\appdata\\local\\programs\\python\\python312\\lib\\site-packages (from python-dateutil>=2.8.2->pandas) (1.16.0)\n"
     ]
    },
    {
     "name": "stderr",
     "output_type": "stream",
     "text": [
      "\n",
      "[notice] A new release of pip is available: 24.1.2 -> 25.0.1\n",
      "[notice] To update, run: python.exe -m pip install --upgrade pip\n"
     ]
    },
    {
     "name": "stdout",
     "output_type": "stream",
     "text": [
      "Requirement already satisfied: lxml in c:\\users\\rameez computer\\appdata\\local\\programs\\python\\python312\\lib\\site-packages (5.3.0)\n"
     ]
    },
    {
     "name": "stderr",
     "output_type": "stream",
     "text": [
      "\n",
      "[notice] A new release of pip is available: 24.1.2 -> 25.0.1\n",
      "[notice] To update, run: python.exe -m pip install --upgrade pip\n"
     ]
    }
   ],
   "source": [
    "#Install required packages\n",
    "!pip install pandas numpy \n",
    "!pip install lxml"
   ]
  },
  {
   "cell_type": "markdown",
   "id": "063f50b4-ad81-4659-9c33-e17e2a1e3ccd",
   "metadata": {},
   "source": [
    "### Importing Required Libraries\n",
    "\n",
    "_We recommend you import all required libraries in one place (here):_"
   ]
  },
  {
   "cell_type": "code",
   "execution_count": 4,
   "id": "297df253-1812-48df-b223-778851015fc6",
   "metadata": {},
   "outputs": [],
   "source": [
    "import numpy as np\n",
    "import pandas as pd\n",
    "\n",
    "# You can also use this section to suppress warnings generated by your code:\n",
    "def warn(*args, **kwargs):\n",
    "    pass\n",
    "import warnings\n",
    "warnings.warn = warn\n",
    "warnings.filterwarnings('ignore')"
   ]
  },
  {
   "cell_type": "markdown",
   "id": "3ed2bd37-da1a-4f1d-b03a-17a43e0d09a2",
   "metadata": {},
   "source": [
    "# Exercises\n",
    "\n",
    "### Exercise 1\n",
    "Extract the required GDP data from the given URL using Web Scraping."
   ]
  },
  {
   "cell_type": "code",
   "execution_count": 6,
   "id": "dcc9a924-ba36-4dd7-986c-a9881c1b8871",
   "metadata": {},
   "outputs": [],
   "source": [
    "URL=\"https://web.archive.org/web/20230902185326/https://en.wikipedia.org/wiki/List_of_countries_by_GDP_%28nominal%29\""
   ]
  },
  {
   "cell_type": "markdown",
   "id": "33632a41-c9f2-433a-803e-97f4ee5309c3",
   "metadata": {},
   "source": [
    "You can use Pandas library to extract the required table directly as a DataFrame. Note that the required table is the third one on the website, as shown in the image below.\n",
    "\n",
    "<img src=\"https://cf-courses-data.s3.us.cloud-object-storage.appdomain.cloud/IBMDeveloperSkillsNetwork-PY0101EN-SkillsNetwork/images/pandas_wbs_3.png\">\n"
   ]
  },
  {
   "cell_type": "code",
   "execution_count": 8,
   "id": "90eb4bef-5c3d-4cc1-abcb-2abfcaa6fe1f",
   "metadata": {},
   "outputs": [],
   "source": [
    "# Extract tables from webpage using Pandas. Retain table number 3 as the required dataframe.\n",
    "tables = pd.read_html(URL)\n",
    "df = tables[3]\n",
    "\n",
    "# Replace the column headers with column numbers\n",
    "df.columns = range(df.shape[1])\n",
    "\n",
    "# Retain columns with index 0 and 2 (name of country and value of GDP quoted by IMF)\n",
    "df = df[[0,2]]\n",
    "\n",
    "# Retain the Rows with index 1 to 10, indicating the top 10 economies of the world.\n",
    "df = df.iloc[1:11,:]\n",
    "\n",
    "# Assign column names as \"Country\" and \"GDP (Million USD)\"\n",
    "df.columns = ['Country','GDP (Million USD)']"
   ]
  },
  {
   "cell_type": "markdown",
   "id": "2137cb97-5794-4586-863d-55c09c483493",
   "metadata": {},
   "source": [
    "### Exercise 2\n",
    "Modify the GDP column of the DataFrame, converting the value available in Million USD to Billion USD. Use the `round()` method of Numpy library to round the value to 2 decimal places. Modify the header of the DataFrame to `GDP (Billion USD)`.\n"
   ]
  },
  {
   "cell_type": "code",
   "execution_count": 9,
   "id": "e11d4585-91be-4927-aa56-7f0a93d180d5",
   "metadata": {},
   "outputs": [
    {
     "data": {
      "text/html": [
       "<div>\n",
       "<style scoped>\n",
       "    .dataframe tbody tr th:only-of-type {\n",
       "        vertical-align: middle;\n",
       "    }\n",
       "\n",
       "    .dataframe tbody tr th {\n",
       "        vertical-align: top;\n",
       "    }\n",
       "\n",
       "    .dataframe thead th {\n",
       "        text-align: right;\n",
       "    }\n",
       "</style>\n",
       "<table border=\"1\" class=\"dataframe\">\n",
       "  <thead>\n",
       "    <tr style=\"text-align: right;\">\n",
       "      <th></th>\n",
       "      <th>Country</th>\n",
       "      <th>GDP (Billion USD)</th>\n",
       "    </tr>\n",
       "  </thead>\n",
       "  <tbody>\n",
       "    <tr>\n",
       "      <th>1</th>\n",
       "      <td>United States</td>\n",
       "      <td>26854.60</td>\n",
       "    </tr>\n",
       "    <tr>\n",
       "      <th>2</th>\n",
       "      <td>China</td>\n",
       "      <td>19373.59</td>\n",
       "    </tr>\n",
       "    <tr>\n",
       "      <th>3</th>\n",
       "      <td>Japan</td>\n",
       "      <td>4409.74</td>\n",
       "    </tr>\n",
       "    <tr>\n",
       "      <th>4</th>\n",
       "      <td>Germany</td>\n",
       "      <td>4308.85</td>\n",
       "    </tr>\n",
       "    <tr>\n",
       "      <th>5</th>\n",
       "      <td>India</td>\n",
       "      <td>3736.88</td>\n",
       "    </tr>\n",
       "    <tr>\n",
       "      <th>6</th>\n",
       "      <td>United Kingdom</td>\n",
       "      <td>3158.94</td>\n",
       "    </tr>\n",
       "    <tr>\n",
       "      <th>7</th>\n",
       "      <td>France</td>\n",
       "      <td>2923.49</td>\n",
       "    </tr>\n",
       "    <tr>\n",
       "      <th>8</th>\n",
       "      <td>Italy</td>\n",
       "      <td>2169.74</td>\n",
       "    </tr>\n",
       "    <tr>\n",
       "      <th>9</th>\n",
       "      <td>Canada</td>\n",
       "      <td>2089.67</td>\n",
       "    </tr>\n",
       "    <tr>\n",
       "      <th>10</th>\n",
       "      <td>Brazil</td>\n",
       "      <td>2081.24</td>\n",
       "    </tr>\n",
       "  </tbody>\n",
       "</table>\n",
       "</div>"
      ],
      "text/plain": [
       "           Country  GDP (Billion USD)\n",
       "1    United States           26854.60\n",
       "2            China           19373.59\n",
       "3            Japan            4409.74\n",
       "4          Germany            4308.85\n",
       "5            India            3736.88\n",
       "6   United Kingdom            3158.94\n",
       "7           France            2923.49\n",
       "8            Italy            2169.74\n",
       "9           Canada            2089.67\n",
       "10          Brazil            2081.24"
      ]
     },
     "execution_count": 9,
     "metadata": {},
     "output_type": "execute_result"
    }
   ],
   "source": [
    "# Change the data type of the 'GDP (Million USD)' column to integer. Use astype() method.\n",
    "df['GDP (Million USD)'] = df['GDP (Million USD)'].astype(int)\n",
    "\n",
    "# Convert the GDP value in Million USD to Billion USD\n",
    "df[['GDP (Million USD)']] = df[['GDP (Million USD)']]/1000\n",
    "\n",
    "# Use numpy.round() method to round the value to 2 decimal places.\n",
    "df[['GDP (Million USD)']] = np.round(df[['GDP (Million USD)']], 2)\n",
    "\n",
    "# Rename the column header from 'GDP (Million USD)' to 'GDP (Billion USD)'\n",
    "df.rename(columns = {'GDP (Million USD)' : 'GDP (Billion USD)'})"
   ]
  },
  {
   "cell_type": "markdown",
   "id": "5dac6401-8b7b-4dd2-b7f5-a1dbae1a11ed",
   "metadata": {},
   "source": [
    "### Exercise 3\n"
   ]
  },
  {
   "cell_type": "markdown",
   "id": "f4d8e538-fe8a-426d-a40b-23f2b63836a2",
   "metadata": {},
   "source": [
    "Load the DataFrame to the CSV file named \"Largest_economies.csv\"\n"
   ]
  },
  {
   "cell_type": "code",
   "execution_count": 12,
   "id": "f2153bfa-9467-40e3-8278-845826e135ad",
   "metadata": {},
   "outputs": [],
   "source": [
    "# Load the DataFrame to the CSV file named \"Largest_economies.csv\"\n",
    "df.to_csv('./Largest_economies.csv')"
   ]
  },
  {
   "cell_type": "code",
   "execution_count": null,
   "id": "5cd88f4b-edaf-4ff2-a262-7ddba902eff8",
   "metadata": {},
   "outputs": [],
   "source": []
  }
 ],
 "metadata": {
  "kernelspec": {
   "display_name": "Python 3 (ipykernel)",
   "language": "python",
   "name": "python3"
  },
  "language_info": {
   "codemirror_mode": {
    "name": "ipython",
    "version": 3
   },
   "file_extension": ".py",
   "mimetype": "text/x-python",
   "name": "python",
   "nbconvert_exporter": "python",
   "pygments_lexer": "ipython3",
   "version": "3.12.2"
  }
 },
 "nbformat": 4,
 "nbformat_minor": 5
}
